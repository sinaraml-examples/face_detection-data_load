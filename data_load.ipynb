{
 "cells": [
  {
   "cell_type": "code",
   "execution_count": null,
   "id": "28ad034d-d71b-4f3d-a0c7-75c2d6cf5b36",
   "metadata": {
    "tags": []
   },
   "outputs": [],
   "source": [
    "%load_ext autoreload\n",
    "%autoreload 2"
   ]
  },
  {
   "cell_type": "code",
   "execution_count": null,
   "id": "88025c46-a078-4d3f-b403-ca4cb6a189ca",
   "metadata": {
    "tags": [
     "parameters"
    ]
   },
   "outputs": [],
   "source": [
    "# specify substep parameters for interactive run\n",
    "# this cell will be replaced during job run with the parameters from json within params subfolder\n",
    "substep_params={\n",
    "    \"wider_dataset_url\": \"/raw/face_datasets/wider_face/wider-face.tar\",\n",
    "    \"yolox_pth_pretrain_weights\": \"https://download.openmmlab.com/mmdetection/v2.0/yolox/yolox_s_8x8_300e_coco/yolox_s_8x8_300e_coco_20211121_095711-4592a793.pth\"\n",
    "}"
   ]
  },
  {
   "cell_type": "code",
   "execution_count": null,
   "id": "6f4722b6-ebf7-4b7d-bce3-7381c897f2cb",
   "metadata": {
    "tags": []
   },
   "outputs": [],
   "source": [
    "# load pipeline and step parameters - do not edit\n",
    "from sinara.substep import get_pipeline_params, get_step_params\n",
    "pipeline_params = get_pipeline_params(pprint=True)\n",
    "step_params = get_step_params(pprint=True)"
   ]
  },
  {
   "cell_type": "code",
   "execution_count": null,
   "id": "d0508bde-536b-4d9e-9826-ddd8d4dcd056",
   "metadata": {
    "tags": []
   },
   "outputs": [],
   "source": [
    "# specify all notebook wide libraries imports here\n",
    "# Sinara lib imports is left in the place of their usage\n",
    "import os\n",
    "import os.path as osp"
   ]
  },
  {
   "cell_type": "code",
   "execution_count": null,
   "id": "f067c0a4-3e3e-46f9-8b49-d905d1a1bf96",
   "metadata": {
    "tags": []
   },
   "outputs": [],
   "source": [
    "# define substep interface\n",
    "from sinara.substep import NotebookSubstep, ENV_NAME, PIPELINE_NAME, ZONE_NAME, STEP_NAME, RUN_ID, ENTITY_NAME, ENTITY_PATH, SUBSTEP_NAME\n",
    "\n",
    "substep = NotebookSubstep(pipeline_params, step_params, substep_params)\n",
    "\n",
    "substep.interface(\n",
    "    tmp_entities = \n",
    "    [\n",
    "        { ENTITY_NAME: \"downloaded_archives\"}, # temporarily dowloaded zip archives\n",
    "        { ENTITY_NAME: \"wider_dataset\"}, # extracted temporary images from downloaded_archives zip\n",
    "        { ENTITY_NAME: \"yolox_pth_pretrain_weights\"} # temporarily dowloaded pretrain weights\n",
    "    ],\n",
    "\n",
    "    outputs =\n",
    "    [\n",
    "        { ENTITY_NAME: \"wider_dataset\"}, # images and annotations stored for using in next steps\n",
    "        { ENTITY_NAME: \"yolox_pth_pretrain_weights\"} # pretrain weights stored for using in next steps\n",
    "    ]\n",
    ")\n",
    "\n",
    "substep.print_interface_info()\n",
    "\n",
    "substep.exit_in_visualize_mode()"
   ]
  },
  {
   "cell_type": "code",
   "execution_count": null,
   "id": "74a4a572-4573-4ead-8912-a3560e53db86",
   "metadata": {
    "tags": []
   },
   "outputs": [],
   "source": [
    "# run spark\n",
    "from sinara.spark import SinaraSpark\n",
    "from sinara.archive import SinaraArchive\n",
    "\n",
    "spark = SinaraSpark.run_session(0)\n",
    "archive = SinaraArchive(spark)\n",
    "SinaraSpark.ui_url()"
   ]
  },
  {
   "cell_type": "markdown",
   "id": "2398c9d8-2ec6-42f6-ad0f-0a929b973062",
   "metadata": {
    "tags": []
   },
   "source": [
    "### Loading coco_datasets_images and coco_datasets_annotations zip archive"
   ]
  },
  {
   "cell_type": "code",
   "execution_count": null,
   "id": "31c22b76-868d-46dd-9caa-aaa0aafcddcb",
   "metadata": {
    "tags": []
   },
   "outputs": [],
   "source": [
    "tmp_entities = substep.tmp_entities()\n",
    "\n",
    "wider_dataset_url = substep_params[\"wider_dataset_url\"]"
   ]
  },
  {
   "cell_type": "code",
   "execution_count": null,
   "id": "03fa313e-bb2a-452b-ae37-660eec26df37",
   "metadata": {
    "tags": []
   },
   "outputs": [],
   "source": [
    "# Copy dataset archive\n",
    "!cp {wider_dataset_url} {osp.join(tmp_entities.downloaded_archives, osp.basename(wider_dataset_url))}"
   ]
  },
  {
   "cell_type": "code",
   "execution_count": null,
   "id": "8bb5b116-b207-4400-82e4-ba47c02c5fc3",
   "metadata": {},
   "outputs": [],
   "source": [
    "# Unpack\n",
    "!tar -xf {osp.join(tmp_entities.downloaded_archives, osp.basename(wider_dataset_url))} -C {tmp_entities.wider_dataset}"
   ]
  },
  {
   "cell_type": "markdown",
   "id": "75be98f0-c517-45be-8d21-dc32291447c4",
   "metadata": {
    "tags": []
   },
   "source": [
    "#### Load pretrain weights to directory of yolox_pth_pretrain_weights"
   ]
  },
  {
   "cell_type": "code",
   "execution_count": null,
   "id": "95fb81da-f3c9-47ef-ac30-a4553437e220",
   "metadata": {
    "tags": []
   },
   "outputs": [],
   "source": [
    "yolox_pth_pretrain_weights_url = substep_params[\"yolox_pth_pretrain_weights\"]\n",
    "yolox_pth_pretrain_weights_path = osp.join(tmp_entities.yolox_pth_pretrain_weights, osp.basename(yolox_pth_pretrain_weights_url))\n",
    " \n",
    "!wget {yolox_pth_pretrain_weights_url} -O {yolox_pth_pretrain_weights_path}"
   ]
  },
  {
   "cell_type": "markdown",
   "id": "b7daa3e3-bf19-4ccf-bda8-75ac0e1b3701",
   "metadata": {
    "tags": []
   },
   "source": [
    "### Archiving wider_dataset for next step"
   ]
  },
  {
   "cell_type": "code",
   "execution_count": null,
   "id": "e6765536-1370-476c-a2f9-db56f6140906",
   "metadata": {
    "tags": []
   },
   "outputs": [],
   "source": [
    "# Save tmp_entities.wider_dataset to outputs of step data_load\n",
    "tmp_entities = substep.tmp_entities()\n",
    "\n",
    "outputs = substep.outputs()\n",
    "\n",
    "archive.pack_files_from_tmp_to_store(tmp_entity_dir=tmp_entities.wider_dataset, store_path=outputs.wider_dataset)\n",
    "archive.pack_files_from_tmp_to_store(tmp_entity_dir=tmp_entities.yolox_pth_pretrain_weights, store_path=outputs.yolox_pth_pretrain_weights)"
   ]
  },
  {
   "cell_type": "code",
   "execution_count": null,
   "id": "7fa243b4-ec85-4950-94f5-6c08898e53a0",
   "metadata": {
    "tags": []
   },
   "outputs": [],
   "source": [
    "# Stop spark\n",
    "SinaraSpark.stop_session()"
   ]
  },
  {
   "cell_type": "code",
   "execution_count": null,
   "id": "cfb715ee-4c04-4fb8-b136-f4871f3786af",
   "metadata": {},
   "outputs": [],
   "source": []
  }
 ],
 "metadata": {
  "kernelspec": {
   "display_name": "cv",
   "language": "python",
   "name": "python3"
  },
  "language_info": {
   "codemirror_mode": {
    "name": "ipython",
    "version": 3
   },
   "file_extension": ".py",
   "mimetype": "text/x-python",
   "name": "python",
   "nbconvert_exporter": "python",
   "pygments_lexer": "ipython3",
   "version": "3.10.12"
  }
 },
 "nbformat": 4,
 "nbformat_minor": 5
}
